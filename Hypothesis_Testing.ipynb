{
 "cells": [
  {
   "cell_type": "markdown",
   "id": "7ed66b2a",
   "metadata": {},
   "source": [
    "# **Hypothesis Testing in Python**\n",
    "**Author**: Your Name  \n",
    "**Date**: 2024-06-10"
   ]
  },
  {
   "cell_type": "markdown",
   "id": "e4ce8f80",
   "metadata": {},
   "source": [
    "## **Table of Contents**  \n",
    "1. [Introduction](#Introduction)  \n",
    "2. [Key Concepts](#Key-Concepts)  \n",
    "3. [Types of Hypothesis Tests](#Types-of-Hypothesis-Tests)  \n",
    "4. [Choosing the Right Test](#Choosing-the-Right-Test)  \n",
    "5. [Conclusion](#Conclusion)"
   ]
  },
  {
   "cell_type": "markdown",
   "id": "a004c036",
   "metadata": {},
   "source": [
    "## **1. Introduction**  \n",
    "Hypothesis testing is a fundamental technique in statistics that helps determine whether there is enough evidence in a sample to infer a particular property about a population. This notebook explains and demonstrates several hypothesis tests using Python.\n"
   ]
  },
  {
   "cell_type": "markdown",
   "id": "0b31b013",
   "metadata": {},
   "source": [
    "## **2. Key Concepts**  \n",
    "- **Null Hypothesis (H₀)**: The default assumption (e.g., no difference or effect).  \n",
    "- **Alternative Hypothesis (H₁)**: Indicates the presence of an effect or difference.  \n",
    "- **p-value**: The probability of obtaining the observed result, or more extreme, if H₀ is true.  \n",
    "- **α (alpha)**: Significance level, usually set to 0.05.  \n",
    "- **Test Statistic**: A value used to decide whether to reject H₀.  \n"
   ]
  },
  {
   "cell_type": "markdown",
   "id": "36613f8d",
   "metadata": {},
   "source": [
    "## **3. Types of Hypothesis Tests**"
   ]
  },
  {
   "cell_type": "code",
   "execution_count": null,
   "id": "f89aff54",
   "metadata": {},
   "outputs": [],
   "source": [
    "import pandas as pd\n",
    "import numpy as np\n",
    "from scipy import stats\n",
    "import matplotlib.pyplot as plt\n",
    "import seaborn as sns\n",
    "\n",
    "\n",
    "# Sample Data Generation\n",
    "np.random.seed(42)\n",
    "\n",
    "# One-Sample t-test\n",
    "print(\"1. One-Sample t-test:\")\n",
    "data = np.random.normal(loc=50, scale=10, size=30)\n",
    "t_stat, p_val = stats.ttest_1samp(data, popmean=55)\n",
    "print(f\"T-statistic: {t_stat:.3f}, p-value: {p_val:.3f}\\n\")\n",
    "\n",
    "# Two-Sample Independent t-test\n",
    "print(\"2. Two-Sample Independent t-test:\")\n",
    "group1 = np.random.normal(loc=60, scale=8, size=30)\n",
    "group2 = np.random.normal(loc=65, scale=8, size=30)\n",
    "t_stat, p_val = stats.ttest_ind(group1, group2)\n",
    "print(f\"T-statistic: {t_stat:.3f}, p-value: {p_val:.3f}\\n\")\n",
    "\n",
    "# Paired t-test\n",
    "print(\"3. Paired t-test:\")\n",
    "before = np.random.normal(loc=70, scale=5, size=20)\n",
    "after = before + np.random.normal(loc=2, scale=2, size=20)\n",
    "t_stat, p_val = stats.ttest_rel(before, after)\n",
    "print(f\"T-statistic: {t_stat:.3f}, p-value: {p_val:.3f}\\n\")\n",
    "\n",
    "# ANOVA\n",
    "print(\"4. ANOVA (Analysis of Variance):\")\n",
    "group_a = np.random.normal(loc=55, scale=5, size=30)\n",
    "group_b = np.random.normal(loc=60, scale=5, size=30)\n",
    "group_c = np.random.normal(loc=65, scale=5, size=30)\n",
    "f_stat, p_val = stats.f_oneway(group_a, group_b, group_c)\n",
    "print(f\"F-statistic: {f_stat:.3f}, p-value: {p_val:.3f}\\n\")\n",
    "\n",
    "# Chi-Square Test of Independence\n",
    "print(\"5. Chi-Square Test of Independence:\")\n",
    "obs = np.array([[10, 20, 30], [6,  9, 17]])\n",
    "chi2, p_val, dof, expected = stats.chi2_contingency(obs)\n",
    "print(f\"Chi2 Statistic: {chi2:.3f}, p-value: {p_val:.3f}, Degrees of Freedom: {dof}\\n\")\n",
    "\n",
    "# Wilcoxon Signed-Rank Test\n",
    "print(\"6. Wilcoxon Signed-Rank Test:\")\n",
    "before = np.random.normal(loc=100, scale=10, size=25)\n",
    "after = before + np.random.normal(loc=1, scale=5, size=25)\n",
    "stat, p_val = stats.wilcoxon(before, after)\n",
    "print(f\"Wilcoxon Statistic: {stat:.3f}, p-value: {p_val:.3f}\\n\")\n",
    "\n",
    "# Mann-Whitney U Test\n",
    "print(\"7. Mann-Whitney U Test:\")\n",
    "group1 = np.random.normal(loc=80, scale=10, size=40)\n",
    "group2 = np.random.normal(loc=85, scale=10, size=40)\n",
    "u_stat, p_val = stats.mannwhitneyu(group1, group2)\n",
    "print(f\"U Statistic: {u_stat:.3f}, p-value: {p_val:.3f}\\n\")\n",
    "\n",
    "\n",
    "plt.figure(figsize=(5, 5))\n",
    "sns.histplot(group1, kde=True, stat=\"density\", linewidth=0)\n",
    "plt.title('Histogram with Density Plot')\n",
    "plt.show()\n"
   ]
  },
  {
   "cell_type": "markdown",
   "id": "2b78b9d6",
   "metadata": {},
   "source": [
    "## **4. Choosing the Right Test**  \n",
    "| Test | When to Use | Parametric? | Function |\n",
    "|------|-------------|-------------|----------|\n",
    "| One-Sample t-test | Compare sample mean to known value | Yes | `ttest_1samp` |\n",
    "| Two-Sample t-test | Compare means of 2 independent groups | Yes | `ttest_ind` |\n",
    "| Paired t-test | Compare means of related groups | Yes | `ttest_rel` |\n",
    "| ANOVA | Compare means of 3+ groups | Yes | `f_oneway` |\n",
    "| Chi-Square | Compare frequencies | No | `chi2_contingency` |\n",
    "| Wilcoxon | Paired non-parametric test | No | `wilcoxon` |\n",
    "| Mann-Whitney U | Independent non-parametric test | No | `mannwhitneyu` |\n"
   ]
  },
  {
   "cell_type": "markdown",
   "id": "2fd9795e",
   "metadata": {},
   "source": [
    "## **5. Conclusion**  \n",
    "This notebook provided an overview of hypothesis testing in Python using real statistical tests. Always evaluate assumptions such as normality and sample size before choosing a test.\n"
   ]
  }
 ],
 "metadata": {
  "language_info": {
   "name": "python"
  }
 },
 "nbformat": 4,
 "nbformat_minor": 5
}
